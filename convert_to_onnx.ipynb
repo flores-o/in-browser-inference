{
 "cells": [
  {
   "cell_type": "code",
   "execution_count": null,
   "metadata": {},
   "outputs": [],
   "source": [
    "from transformers import DistilBertTokenizer, DistilBertForSequenceClassification\n",
    "import torch\n",
    "\n",
    "\n",
    "# Load pretrained model and tokenizer\n",
    "tokenizer = DistilBertTokenizer.from_pretrained(\"distilbert-base-uncased-finetuned-sst-2-english\")\n",
    "model = DistilBertForSequenceClassification.from_pretrained(\"distilbert-base-uncased-finetuned-sst-2-english\")\n",
    "model.eval()  # Set the model to evaluation mode\n",
    "\n",
    "# Define a maximum sequence length for inputs (choose based on your dataset)\n",
    "max_length = 512\n",
    "\n",
    "# Tokenize text with padding to max_length, ensuring all models are exported with this consideration\n",
    "text = \"Hello, my dog is cute\"\n",
    "inputs = tokenizer(text, return_tensors=\"pt\", max_length=max_length, padding=\"max_length\", truncation=True)\n",
    "\n",
    "# Perform a dummy inference to ensure the model is ready\n",
    "with torch.no_grad():\n",
    "    logits = model(**inputs).logits\n",
    "\n",
    "# Export the model\n",
    "# Adjust dynamic_axes to correctly reflect variable input and output lengths\n",
    "torch.onnx.export(model,\n",
    "                  args=(inputs['input_ids'], inputs['attention_mask']),\n",
    "                  f=\"distilbert.onnx\",\n",
    "                  export_params=True,\n",
    "                  opset_version=11,\n",
    "                  do_constant_folding=True,\n",
    "                  input_names=['input_ids', 'attention_mask'],\n",
    "                  output_names=['logits'],\n",
    "                  dynamic_axes={'input_ids': {0: 'batch_size', 1: 'sequence'},\n",
    "                                'attention_mask': {0: 'batch_size', 1: 'sequence'},\n",
    "                                'logits': {0: 'batch_size'}})\n"
   ]
  }
 ],
 "metadata": {
  "kernelspec": {
   "display_name": "in-browser",
   "language": "python",
   "name": "python3"
  },
  "language_info": {
   "codemirror_mode": {
    "name": "ipython",
    "version": 3
   },
   "file_extension": ".py",
   "mimetype": "text/x-python",
   "name": "python",
   "nbconvert_exporter": "python",
   "pygments_lexer": "ipython3",
   "version": "3.8.18"
  }
 },
 "nbformat": 4,
 "nbformat_minor": 2
}
